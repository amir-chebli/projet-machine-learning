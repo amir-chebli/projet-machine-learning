{
 "cells": [
  {
   "cell_type": "markdown",
   "id": "bb9f4289",
   "metadata": {},
   "source": [
    "### DS Machine Learning - Amir Chebli - GLSI3 - G1"
   ]
  },
  {
   "cell_type": "markdown",
   "id": "532fd2fa",
   "metadata": {},
   "source": [
    "# Import des bibliothèques nécessaires"
   ]
  },
  {
   "cell_type": "code",
   "execution_count": 1,
   "id": "7dc506b3",
   "metadata": {},
   "outputs": [],
   "source": [
    "import pandas as pd\n",
    "from sklearn.model_selection import train_test_split\n",
    "from sklearn.impute import SimpleImputer\n",
    "from sklearn.preprocessing import StandardScaler, LabelEncoder\n",
    "from sklearn.linear_model import LogisticRegression\n",
    "from sklearn.ensemble import RandomForestClassifier\n",
    "import xgboost as xgb\n",
    "from sklearn.metrics import accuracy_score, precision_score, f1_score, confusion_matrix, classification_report"
   ]
  },
  {
   "cell_type": "markdown",
   "id": "09b890ff",
   "metadata": {},
   "source": [
    "# Identification et éxplication du problème d'apprentissage"
   ]
  },
  {
   "cell_type": "markdown",
   "id": "047e18ad",
   "metadata": {},
   "source": [
    "D'après les informations disponibles, il semble que le Dataset DS1 soit lié à des informations sur les utilisateurs, notamment le sexe, l'âge, le salaire estimé et une variable de résultat binaire \"Purchased\", qui indique si un utilisateur a effectué un achat ou non. L'objectif du problème d'apprentissage est de prédire si un utilisateur va effectuer un achat sur la base des caractéristiques données.\n",
    "\n",
    "Il s'agit d'un problème de classification binaire. La tâche consiste à classer chaque instance (utilisateur) dans l'une des deux classes suivantes : \"Purchased\" (classe positive) ou \"Not Purchased\" (classe négative). Les caractéristiques (Gender, Age, Estimated Salary) sont utilisées pour faire cette prédiction.\n",
    "\n",
    "Les algorithmes d'apprentissage automatique les plus courants pour les problèmes de classification binaire comprennent la régression logistique, la forêt aléatoire ainsi que les modèles de boosting de gradient (par exemple XGBoost). "
   ]
  },
  {
   "cell_type": "markdown",
   "id": "b3467a8e",
   "metadata": {},
   "source": [
    "# Partie I : Prétraitement des données"
   ]
  },
  {
   "cell_type": "markdown",
   "id": "63f49da2",
   "metadata": {},
   "source": [
    "### Chargement des données depuis le fichier CSV"
   ]
  },
  {
   "cell_type": "code",
   "execution_count": 2,
   "id": "eeef9f96",
   "metadata": {},
   "outputs": [],
   "source": [
    "file_path = \"DS1-L.csv\"\n",
    "DS1_data = pd.read_csv(file_path)"
   ]
  },
  {
   "cell_type": "markdown",
   "id": "bc41bdb0",
   "metadata": {},
   "source": [
    "### Exploratin des données"
   ]
  },
  {
   "cell_type": "code",
   "execution_count": 3,
   "id": "319b1b28",
   "metadata": {},
   "outputs": [
    {
     "data": {
      "text/html": [
       "<div>\n",
       "<style scoped>\n",
       "    .dataframe tbody tr th:only-of-type {\n",
       "        vertical-align: middle;\n",
       "    }\n",
       "\n",
       "    .dataframe tbody tr th {\n",
       "        vertical-align: top;\n",
       "    }\n",
       "\n",
       "    .dataframe thead th {\n",
       "        text-align: right;\n",
       "    }\n",
       "</style>\n",
       "<table border=\"1\" class=\"dataframe\">\n",
       "  <thead>\n",
       "    <tr style=\"text-align: right;\">\n",
       "      <th></th>\n",
       "      <th>User ID</th>\n",
       "      <th>Gender</th>\n",
       "      <th>Age</th>\n",
       "      <th>EstimatedSalary</th>\n",
       "      <th>Purchased</th>\n",
       "    </tr>\n",
       "  </thead>\n",
       "  <tbody>\n",
       "    <tr>\n",
       "      <th>0</th>\n",
       "      <td>15624510</td>\n",
       "      <td>Male</td>\n",
       "      <td>19</td>\n",
       "      <td>19000</td>\n",
       "      <td>0</td>\n",
       "    </tr>\n",
       "    <tr>\n",
       "      <th>1</th>\n",
       "      <td>15810944</td>\n",
       "      <td>Male</td>\n",
       "      <td>35</td>\n",
       "      <td>20000</td>\n",
       "      <td>0</td>\n",
       "    </tr>\n",
       "    <tr>\n",
       "      <th>2</th>\n",
       "      <td>15668575</td>\n",
       "      <td>Female</td>\n",
       "      <td>26</td>\n",
       "      <td>43000</td>\n",
       "      <td>0</td>\n",
       "    </tr>\n",
       "    <tr>\n",
       "      <th>3</th>\n",
       "      <td>15603246</td>\n",
       "      <td>Female</td>\n",
       "      <td>27</td>\n",
       "      <td>57000</td>\n",
       "      <td>0</td>\n",
       "    </tr>\n",
       "    <tr>\n",
       "      <th>4</th>\n",
       "      <td>15804002</td>\n",
       "      <td>Male</td>\n",
       "      <td>19</td>\n",
       "      <td>76000</td>\n",
       "      <td>0</td>\n",
       "    </tr>\n",
       "  </tbody>\n",
       "</table>\n",
       "</div>"
      ],
      "text/plain": [
       "    User ID  Gender  Age  EstimatedSalary  Purchased\n",
       "0  15624510    Male   19            19000          0\n",
       "1  15810944    Male   35            20000          0\n",
       "2  15668575  Female   26            43000          0\n",
       "3  15603246  Female   27            57000          0\n",
       "4  15804002    Male   19            76000          0"
      ]
     },
     "execution_count": 3,
     "metadata": {},
     "output_type": "execute_result"
    }
   ],
   "source": [
    "DS1_data.head() # Afficher les premières lignes du DataFrame"
   ]
  },
  {
   "cell_type": "code",
   "execution_count": 4,
   "id": "8b85bb6a",
   "metadata": {},
   "outputs": [
    {
     "name": "stdout",
     "output_type": "stream",
     "text": [
      "<class 'pandas.core.frame.DataFrame'>\n",
      "RangeIndex: 400 entries, 0 to 399\n",
      "Data columns (total 5 columns):\n",
      " #   Column           Non-Null Count  Dtype \n",
      "---  ------           --------------  ----- \n",
      " 0   User ID          400 non-null    int64 \n",
      " 1   Gender           400 non-null    object\n",
      " 2   Age              400 non-null    int64 \n",
      " 3   EstimatedSalary  400 non-null    int64 \n",
      " 4   Purchased        400 non-null    int64 \n",
      "dtypes: int64(4), object(1)\n",
      "memory usage: 15.8+ KB\n"
     ]
    }
   ],
   "source": [
    "DS1_data.info() # Informations sur les colonnes et les types de données"
   ]
  },
  {
   "cell_type": "code",
   "execution_count": 5,
   "id": "0bc47993",
   "metadata": {},
   "outputs": [],
   "source": [
    "# Suppression des colonnes inutiles\n",
    "columns_to_drop = ['User ID']\n",
    "DS1_data = DS1_data.drop(columns=columns_to_drop, axis=1)"
   ]
  },
  {
   "cell_type": "code",
   "execution_count": 6,
   "id": "f4ce5893",
   "metadata": {},
   "outputs": [
    {
     "data": {
      "text/html": [
       "<div>\n",
       "<style scoped>\n",
       "    .dataframe tbody tr th:only-of-type {\n",
       "        vertical-align: middle;\n",
       "    }\n",
       "\n",
       "    .dataframe tbody tr th {\n",
       "        vertical-align: top;\n",
       "    }\n",
       "\n",
       "    .dataframe thead th {\n",
       "        text-align: right;\n",
       "    }\n",
       "</style>\n",
       "<table border=\"1\" class=\"dataframe\">\n",
       "  <thead>\n",
       "    <tr style=\"text-align: right;\">\n",
       "      <th></th>\n",
       "      <th>Gender</th>\n",
       "      <th>Age</th>\n",
       "      <th>EstimatedSalary</th>\n",
       "      <th>Purchased</th>\n",
       "    </tr>\n",
       "  </thead>\n",
       "  <tbody>\n",
       "    <tr>\n",
       "      <th>0</th>\n",
       "      <td>Male</td>\n",
       "      <td>19</td>\n",
       "      <td>19000</td>\n",
       "      <td>0</td>\n",
       "    </tr>\n",
       "    <tr>\n",
       "      <th>1</th>\n",
       "      <td>Male</td>\n",
       "      <td>35</td>\n",
       "      <td>20000</td>\n",
       "      <td>0</td>\n",
       "    </tr>\n",
       "    <tr>\n",
       "      <th>2</th>\n",
       "      <td>Female</td>\n",
       "      <td>26</td>\n",
       "      <td>43000</td>\n",
       "      <td>0</td>\n",
       "    </tr>\n",
       "    <tr>\n",
       "      <th>3</th>\n",
       "      <td>Female</td>\n",
       "      <td>27</td>\n",
       "      <td>57000</td>\n",
       "      <td>0</td>\n",
       "    </tr>\n",
       "    <tr>\n",
       "      <th>4</th>\n",
       "      <td>Male</td>\n",
       "      <td>19</td>\n",
       "      <td>76000</td>\n",
       "      <td>0</td>\n",
       "    </tr>\n",
       "  </tbody>\n",
       "</table>\n",
       "</div>"
      ],
      "text/plain": [
       "   Gender  Age  EstimatedSalary  Purchased\n",
       "0    Male   19            19000          0\n",
       "1    Male   35            20000          0\n",
       "2  Female   26            43000          0\n",
       "3  Female   27            57000          0\n",
       "4    Male   19            76000          0"
      ]
     },
     "execution_count": 6,
     "metadata": {},
     "output_type": "execute_result"
    }
   ],
   "source": [
    "DS1_data.head() # Afficher les premières lignes du DataFrame après suppression"
   ]
  },
  {
   "cell_type": "code",
   "execution_count": 7,
   "id": "a4f4fce5",
   "metadata": {},
   "outputs": [
    {
     "data": {
      "text/html": [
       "<div>\n",
       "<style scoped>\n",
       "    .dataframe tbody tr th:only-of-type {\n",
       "        vertical-align: middle;\n",
       "    }\n",
       "\n",
       "    .dataframe tbody tr th {\n",
       "        vertical-align: top;\n",
       "    }\n",
       "\n",
       "    .dataframe thead th {\n",
       "        text-align: right;\n",
       "    }\n",
       "</style>\n",
       "<table border=\"1\" class=\"dataframe\">\n",
       "  <thead>\n",
       "    <tr style=\"text-align: right;\">\n",
       "      <th></th>\n",
       "      <th>Gender</th>\n",
       "      <th>Age</th>\n",
       "      <th>EstimatedSalary</th>\n",
       "      <th>Purchased</th>\n",
       "    </tr>\n",
       "  </thead>\n",
       "  <tbody>\n",
       "    <tr>\n",
       "      <th>0</th>\n",
       "      <td>1</td>\n",
       "      <td>19</td>\n",
       "      <td>19000</td>\n",
       "      <td>0</td>\n",
       "    </tr>\n",
       "    <tr>\n",
       "      <th>1</th>\n",
       "      <td>1</td>\n",
       "      <td>35</td>\n",
       "      <td>20000</td>\n",
       "      <td>0</td>\n",
       "    </tr>\n",
       "    <tr>\n",
       "      <th>2</th>\n",
       "      <td>0</td>\n",
       "      <td>26</td>\n",
       "      <td>43000</td>\n",
       "      <td>0</td>\n",
       "    </tr>\n",
       "    <tr>\n",
       "      <th>3</th>\n",
       "      <td>0</td>\n",
       "      <td>27</td>\n",
       "      <td>57000</td>\n",
       "      <td>0</td>\n",
       "    </tr>\n",
       "    <tr>\n",
       "      <th>4</th>\n",
       "      <td>1</td>\n",
       "      <td>19</td>\n",
       "      <td>76000</td>\n",
       "      <td>0</td>\n",
       "    </tr>\n",
       "  </tbody>\n",
       "</table>\n",
       "</div>"
      ],
      "text/plain": [
       "   Gender  Age  EstimatedSalary  Purchased\n",
       "0       1   19            19000          0\n",
       "1       1   35            20000          0\n",
       "2       0   26            43000          0\n",
       "3       0   27            57000          0\n",
       "4       1   19            76000          0"
      ]
     },
     "execution_count": 7,
     "metadata": {},
     "output_type": "execute_result"
    }
   ],
   "source": [
    "# Rendre les données plus unifromes (encodage)\n",
    "label_encoder = LabelEncoder() # Encodage de la colonne 'Sex'\n",
    "DS1_data['Gender'] = label_encoder.fit_transform(DS1_data['Gender'])\n",
    "DS1_data.head()  # Afficher les premières lignes du DataFrame après l'encodage"
   ]
  },
  {
   "cell_type": "code",
   "execution_count": 8,
   "id": "73502224",
   "metadata": {},
   "outputs": [
    {
     "name": "stdout",
     "output_type": "stream",
     "text": [
      "Nombre de valeurs uniques pour la colonne Gender: 2\n",
      "Nombre de valeurs uniques pour la colonne Age: 43\n",
      "Nombre de valeurs uniques pour la colonne EstimatedSalary: 117\n",
      "Nombre de valeurs uniques pour la colonne Purchased: 2\n"
     ]
    }
   ],
   "source": [
    "# Affichage des décomptes de valeurs uniques\n",
    "for column in DS1_data.columns:\n",
    "    print(f\"Nombre de valeurs uniques pour la colonne {column}: {DS1_data[column].nunique()}\")"
   ]
  },
  {
   "cell_type": "markdown",
   "id": "6754e73d",
   "metadata": {},
   "source": [
    "### Traitement des données manquantes"
   ]
  },
  {
   "cell_type": "code",
   "execution_count": 9,
   "id": "ba64dec5",
   "metadata": {},
   "outputs": [
    {
     "data": {
      "text/plain": [
       "Gender             0\n",
       "Age                0\n",
       "EstimatedSalary    0\n",
       "Purchased          0\n",
       "dtype: int64"
      ]
     },
     "execution_count": 9,
     "metadata": {},
     "output_type": "execute_result"
    }
   ],
   "source": [
    "# Afficher la somme des valeurs manquantes avant le traitement\n",
    "DS1_data.isnull().sum()"
   ]
  },
  {
   "cell_type": "markdown",
   "id": "ed825c92",
   "metadata": {},
   "source": [
    "Puisqu'il n'y a pas de données manquantes, aucun traitement ne sera nécessaire dans cette partie."
   ]
  },
  {
   "cell_type": "markdown",
   "id": "0b8cc173",
   "metadata": {},
   "source": [
    "### Feature Scaling"
   ]
  },
  {
   "cell_type": "code",
   "execution_count": 10,
   "id": "cd6215f3",
   "metadata": {},
   "outputs": [],
   "source": [
    "# Colonnes pour le Feature Scaling\n",
    "colonnes_numeriques = ['Age', 'EstimatedSalary'] # Ce sont les colonnes ayant des données qui ont des échelles différentes\n",
    "# Appliquer le Feature Scaling\n",
    "mise_a_lechelle_numerique = StandardScaler() \n",
    "DS1_data[colonnes_numeriques] = mise_a_lechelle_numerique.fit_transform(DS1_data[colonnes_numeriques])"
   ]
  },
  {
   "cell_type": "code",
   "execution_count": 11,
   "id": "a5b4f1c6",
   "metadata": {},
   "outputs": [
    {
     "data": {
      "text/html": [
       "<div>\n",
       "<style scoped>\n",
       "    .dataframe tbody tr th:only-of-type {\n",
       "        vertical-align: middle;\n",
       "    }\n",
       "\n",
       "    .dataframe tbody tr th {\n",
       "        vertical-align: top;\n",
       "    }\n",
       "\n",
       "    .dataframe thead th {\n",
       "        text-align: right;\n",
       "    }\n",
       "</style>\n",
       "<table border=\"1\" class=\"dataframe\">\n",
       "  <thead>\n",
       "    <tr style=\"text-align: right;\">\n",
       "      <th></th>\n",
       "      <th>Gender</th>\n",
       "      <th>Age</th>\n",
       "      <th>EstimatedSalary</th>\n",
       "      <th>Purchased</th>\n",
       "    </tr>\n",
       "  </thead>\n",
       "  <tbody>\n",
       "    <tr>\n",
       "      <th>0</th>\n",
       "      <td>1</td>\n",
       "      <td>-1.781797</td>\n",
       "      <td>-1.490046</td>\n",
       "      <td>0</td>\n",
       "    </tr>\n",
       "    <tr>\n",
       "      <th>1</th>\n",
       "      <td>1</td>\n",
       "      <td>-0.253587</td>\n",
       "      <td>-1.460681</td>\n",
       "      <td>0</td>\n",
       "    </tr>\n",
       "    <tr>\n",
       "      <th>2</th>\n",
       "      <td>0</td>\n",
       "      <td>-1.113206</td>\n",
       "      <td>-0.785290</td>\n",
       "      <td>0</td>\n",
       "    </tr>\n",
       "    <tr>\n",
       "      <th>3</th>\n",
       "      <td>0</td>\n",
       "      <td>-1.017692</td>\n",
       "      <td>-0.374182</td>\n",
       "      <td>0</td>\n",
       "    </tr>\n",
       "    <tr>\n",
       "      <th>4</th>\n",
       "      <td>1</td>\n",
       "      <td>-1.781797</td>\n",
       "      <td>0.183751</td>\n",
       "      <td>0</td>\n",
       "    </tr>\n",
       "  </tbody>\n",
       "</table>\n",
       "</div>"
      ],
      "text/plain": [
       "   Gender       Age  EstimatedSalary  Purchased\n",
       "0       1 -1.781797        -1.490046          0\n",
       "1       1 -0.253587        -1.460681          0\n",
       "2       0 -1.113206        -0.785290          0\n",
       "3       0 -1.017692        -0.374182          0\n",
       "4       1 -1.781797         0.183751          0"
      ]
     },
     "execution_count": 11,
     "metadata": {},
     "output_type": "execute_result"
    }
   ],
   "source": [
    "DS1_data.head()  # Afficher les premières lignes du DataFrame après le Feature Scaling"
   ]
  },
  {
   "cell_type": "markdown",
   "id": "f6debb55",
   "metadata": {},
   "source": [
    "### Séparation des données"
   ]
  },
  {
   "cell_type": "code",
   "execution_count": 12,
   "id": "89571214",
   "metadata": {},
   "outputs": [],
   "source": [
    "# Séparation des données en features (X) et target variable (y)\n",
    "X = DS1_data.drop(['Purchased'], axis=1)\n",
    "y = DS1_data['Purchased']"
   ]
  },
  {
   "cell_type": "code",
   "execution_count": 13,
   "id": "b4dbe514",
   "metadata": {},
   "outputs": [],
   "source": [
    "# Split des données en ensembles d'entraînement et de test\n",
    "X_train, X_test, y_train, y_test = train_test_split(X, y, test_size=0.2, random_state=42)"
   ]
  },
  {
   "cell_type": "markdown",
   "id": "e41f9055",
   "metadata": {},
   "source": [
    "# Partie II : Implémentation des modèles d'apprentissage"
   ]
  },
  {
   "cell_type": "markdown",
   "id": "515d7fa3",
   "metadata": {},
   "source": [
    "### Régression logistique"
   ]
  },
  {
   "cell_type": "code",
   "execution_count": 14,
   "id": "d1de0b8c",
   "metadata": {},
   "outputs": [],
   "source": [
    "logistic_model = LogisticRegression()\n",
    "logistic_model.fit(X_train, y_train)\n",
    "logistic_predictions = logistic_model.predict(X_test)"
   ]
  },
  {
   "cell_type": "markdown",
   "id": "23974373",
   "metadata": {},
   "source": [
    "### Forêt aléatoire"
   ]
  },
  {
   "cell_type": "code",
   "execution_count": 15,
   "id": "223bcebb",
   "metadata": {},
   "outputs": [],
   "source": [
    "random_forest_model = RandomForestClassifier()\n",
    "random_forest_model.fit(X_train, y_train)\n",
    "random_forest_predictions = random_forest_model.predict(X_test)"
   ]
  },
  {
   "cell_type": "markdown",
   "id": "31d16f06",
   "metadata": {},
   "source": [
    "### XGBoost"
   ]
  },
  {
   "cell_type": "code",
   "execution_count": 16,
   "id": "76ee1e00",
   "metadata": {},
   "outputs": [],
   "source": [
    "xgboost_model = xgb.XGBClassifier()\n",
    "xgboost_model.fit(X_train, y_train)\n",
    "xgboost_predictions = xgboost_model.predict(X_test)"
   ]
  },
  {
   "cell_type": "markdown",
   "id": "8236f80a",
   "metadata": {},
   "source": [
    "# Partie III : Analyse des résultats"
   ]
  },
  {
   "cell_type": "markdown",
   "id": "cd4f51b1",
   "metadata": {},
   "source": [
    "### Création d'une procédure pour l'évaluation des modéles"
   ]
  },
  {
   "cell_type": "code",
   "execution_count": 17,
   "id": "c63e026c",
   "metadata": {},
   "outputs": [],
   "source": [
    "def evaluate_model(predictions, model_name):\n",
    "    print(f\"--------- {model_name} ---------\")\n",
    "    print(f\"Accuracy: {accuracy_score(y_test, predictions)}\")\n",
    "    print(f\"Precision: {precision_score(y_test, predictions)}\")\n",
    "    print(f\"F-Measure: {f1_score(y_test, predictions)}\")\n",
    "    print(\"Matrice de confusion:\\n\", confusion_matrix(y_test, predictions))\n",
    "    print(\"Rapport de classification:\\n\", classification_report(y_test, predictions))\n",
    "    print(\"\\n\")"
   ]
  },
  {
   "cell_type": "markdown",
   "id": "949ee957",
   "metadata": {},
   "source": [
    "### Comparaison des modèles"
   ]
  },
  {
   "cell_type": "code",
   "execution_count": 18,
   "id": "6651e98e",
   "metadata": {},
   "outputs": [
    {
     "name": "stdout",
     "output_type": "stream",
     "text": [
      "--------- Régression Logistique ---------\n",
      "Accuracy: 0.8875\n",
      "Precision: 0.9130434782608695\n",
      "F-Measure: 0.8235294117647057\n",
      "Matrice de confusion:\n",
      " [[50  2]\n",
      " [ 7 21]]\n",
      "Rapport de classification:\n",
      "               precision    recall  f1-score   support\n",
      "\n",
      "           0       0.88      0.96      0.92        52\n",
      "           1       0.91      0.75      0.82        28\n",
      "\n",
      "    accuracy                           0.89        80\n",
      "   macro avg       0.90      0.86      0.87        80\n",
      "weighted avg       0.89      0.89      0.88        80\n",
      "\n",
      "\n",
      "\n",
      "--------- Forêt Aléatoire ---------\n",
      "Accuracy: 0.925\n",
      "Precision: 0.8928571428571429\n",
      "F-Measure: 0.8928571428571429\n",
      "Matrice de confusion:\n",
      " [[49  3]\n",
      " [ 3 25]]\n",
      "Rapport de classification:\n",
      "               precision    recall  f1-score   support\n",
      "\n",
      "           0       0.94      0.94      0.94        52\n",
      "           1       0.89      0.89      0.89        28\n",
      "\n",
      "    accuracy                           0.93        80\n",
      "   macro avg       0.92      0.92      0.92        80\n",
      "weighted avg       0.93      0.93      0.93        80\n",
      "\n",
      "\n",
      "\n",
      "--------- XGBoost ---------\n",
      "Accuracy: 0.875\n",
      "Precision: 0.8214285714285714\n",
      "F-Measure: 0.8214285714285714\n",
      "Matrice de confusion:\n",
      " [[47  5]\n",
      " [ 5 23]]\n",
      "Rapport de classification:\n",
      "               precision    recall  f1-score   support\n",
      "\n",
      "           0       0.90      0.90      0.90        52\n",
      "           1       0.82      0.82      0.82        28\n",
      "\n",
      "    accuracy                           0.88        80\n",
      "   macro avg       0.86      0.86      0.86        80\n",
      "weighted avg       0.88      0.88      0.88        80\n",
      "\n",
      "\n",
      "\n"
     ]
    }
   ],
   "source": [
    "evaluate_model(logistic_predictions, \"Régression Logistique\")\n",
    "evaluate_model(random_forest_predictions, \"Forêt Aléatoire\")\n",
    "evaluate_model(xgboost_predictions, \"XGBoost\")"
   ]
  },
  {
   "cell_type": "markdown",
   "id": "64d0df2a",
   "metadata": {},
   "source": [
    "### Conclusion"
   ]
  },
  {
   "cell_type": "markdown",
   "id": "fe91ccb6",
   "metadata": {},
   "source": [
    "Compte tenu de ces résultats, le modèle Random Forest semble être le meilleur choix pour cet ensemble de données et ce problème spécifique. Il présente la plus grande accuracy et un bon équilibre entre la précision et le rappel. Le modèle Random Forest est une méthode d'ensemble qui combine les prédictions de plusieurs arbres de décision, ce qui permet souvent d'obtenir des modèles robustes et précis.\n"
   ]
  }
 ],
 "metadata": {
  "kernelspec": {
   "display_name": "Python 3 (ipykernel)",
   "language": "python",
   "name": "python3"
  },
  "language_info": {
   "codemirror_mode": {
    "name": "ipython",
    "version": 3
   },
   "file_extension": ".py",
   "mimetype": "text/x-python",
   "name": "python",
   "nbconvert_exporter": "python",
   "pygments_lexer": "ipython3",
   "version": "3.9.13"
  }
 },
 "nbformat": 4,
 "nbformat_minor": 5
}
